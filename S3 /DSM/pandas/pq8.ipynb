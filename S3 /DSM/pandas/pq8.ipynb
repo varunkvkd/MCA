{
 "cells": [
  {
   "cell_type": "code",
   "execution_count": 1,
   "id": "b3da8f3b",
   "metadata": {},
   "outputs": [
    {
     "name": "stdout",
     "output_type": "stream",
     "text": [
      "  Name  Age\n",
      "0    a   24\n",
      "1    b   25\n"
     ]
    }
   ],
   "source": [
    "import pandas as pd\n",
    "\n",
    "details = {\n",
    "    'Name' : ['a','b','c','d'],\n",
    "    'Age' : [24,25,26,27],\n",
    "}\n",
    "  \n",
    "\n",
    "df = pd.DataFrame(details)\n",
    "  \n",
    "print(df[:2])"
   ]
  },
  {
   "cell_type": "code",
   "execution_count": null,
   "id": "e2cf9aec",
   "metadata": {},
   "outputs": [],
   "source": []
  }
 ],
 "metadata": {
  "kernelspec": {
   "display_name": "Python 3 (ipykernel)",
   "language": "python",
   "name": "python3"
  },
  "language_info": {
   "codemirror_mode": {
    "name": "ipython",
    "version": 3
   },
   "file_extension": ".py",
   "mimetype": "text/x-python",
   "name": "python",
   "nbconvert_exporter": "python",
   "pygments_lexer": "ipython3",
   "version": "3.9.7"
  }
 },
 "nbformat": 4,
 "nbformat_minor": 5
}
