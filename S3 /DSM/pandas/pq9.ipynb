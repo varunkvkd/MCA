{
 "cells": [
  {
   "cell_type": "code",
   "execution_count": 1,
   "id": "2ceda3f0",
   "metadata": {},
   "outputs": [
    {
     "name": "stdout",
     "output_type": "stream",
     "text": [
      "  Name Occupation  Salary\n",
      "0    a         A1      20\n",
      "1    b         A1      30\n",
      "2    c         A1      40\n",
      "3    d         B1      27\n",
      "4    e         B1      23\n",
      "Average salary per occupation : \n",
      "Occupation\n",
      "A1    30.0\n",
      "B1    25.0\n",
      "Name: Salary, dtype: float64\n"
     ]
    }
   ],
   "source": [
    "import pandas as pd\n",
    "\n",
    "details = {\n",
    "    'Name' : ['a','b','c','d','e'],\n",
    "    'Occupation' : ['A1','A1','A1','B1','B1'],\n",
    "    'Salary' : [20,30,40,27,23],\n",
    "}\n",
    "  \n",
    "\n",
    "df = pd.DataFrame(details)\n",
    "print(df)\n",
    "occ_average_age = df.groupby('Occupation')['Salary'].mean()\n",
    "print(\"Average salary per occupation : \")\n",
    "print(occ_average_age)"
   ]
  },
  {
   "cell_type": "code",
   "execution_count": null,
   "id": "284c6acb",
   "metadata": {},
   "outputs": [],
   "source": []
  }
 ],
 "metadata": {
  "kernelspec": {
   "display_name": "Python 3 (ipykernel)",
   "language": "python",
   "name": "python3"
  },
  "language_info": {
   "codemirror_mode": {
    "name": "ipython",
    "version": 3
   },
   "file_extension": ".py",
   "mimetype": "text/x-python",
   "name": "python",
   "nbconvert_exporter": "python",
   "pygments_lexer": "ipython3",
   "version": "3.9.7"
  }
 },
 "nbformat": 4,
 "nbformat_minor": 5
}
