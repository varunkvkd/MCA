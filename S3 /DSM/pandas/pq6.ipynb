{
 "cells": [
  {
   "cell_type": "code",
   "execution_count": 1,
   "id": "ff88ff16",
   "metadata": {},
   "outputs": [
    {
     "name": "stdout",
     "output_type": "stream",
     "text": [
      "  Name  Age  Rank\n",
      "0    e    1     0\n",
      "1    a    2     1\n",
      "2    a    1     2\n",
      "3    b    3     3\n",
      "4    c    3     4\n",
      "5    d    4     5\n",
      "SORTED DATAFRAME\n",
      "  Name  Age  Rank\n",
      "2    a    1     2\n",
      "1    a    2     1\n",
      "3    b    3     3\n",
      "4    c    3     4\n",
      "5    d    4     5\n",
      "0    e    1     0\n"
     ]
    }
   ],
   "source": [
    "import pandas as pd\n",
    "\n",
    "df = pd.DataFrame({'Name': ['e','a','a','b','c','d'],\n",
    "                   'Age': [1,2,1,3,3,4],\n",
    "                   'Rank': [0,1,2,3,4,5]})\n",
    "\n",
    "print(df.to_string())\n",
    "\n",
    "print('SORTED DATAFRAME')\n",
    "df = df.sort_values(by=['Name','Age'], ascending=[True,True])\n",
    "\n",
    "print(df.to_string())"
   ]
  },
  {
   "cell_type": "code",
   "execution_count": null,
   "id": "7ab5a2a2",
   "metadata": {},
   "outputs": [],
   "source": []
  }
 ],
 "metadata": {
  "kernelspec": {
   "display_name": "Python 3 (ipykernel)",
   "language": "python",
   "name": "python3"
  },
  "language_info": {
   "codemirror_mode": {
    "name": "ipython",
    "version": 3
   },
   "file_extension": ".py",
   "mimetype": "text/x-python",
   "name": "python",
   "nbconvert_exporter": "python",
   "pygments_lexer": "ipython3",
   "version": "3.9.7"
  }
 },
 "nbformat": 4,
 "nbformat_minor": 5
}
