{
 "cells": [
  {
   "cell_type": "code",
   "execution_count": 1,
   "id": "cf5a67ce",
   "metadata": {},
   "outputs": [
    {
     "name": "stdout",
     "output_type": "stream",
     "text": [
      "   Name  Age  Rank\n",
      "a1    e    1     0\n",
      "e1    a    2     1\n",
      "c1    a    1     2\n",
      "b1    b    3     3\n",
      "f1    c    3     4\n",
      "d1    d    4     5\n",
      "  Name  Age  Rank\n",
      "0    e    1     0\n",
      "1    a    2     1\n",
      "2    a    1     2\n",
      "3    b    3     3\n",
      "4    c    3     4\n",
      "5    d    4     5\n"
     ]
    }
   ],
   "source": [
    "import pandas as pd\n",
    "\n",
    "data = {'Name': ['e','a','a','b','c','d'],\n",
    "                   'Age': [1,2,1,3,3,4],\n",
    "                   'Rank': [0,1,2,3,4,5]}\n",
    "\n",
    "index = {'a1', 'b1', 'c1', 'd1', 'e1','f1'}\n",
    "\n",
    "df = pd.DataFrame(data,index)\n",
    "#df.reset_index(inplace = True)\n",
    "print(df.to_string())\n",
    "df.reset_index(inplace = True, drop = True)\n",
    "print(df.to_string())"
   ]
  },
  {
   "cell_type": "code",
   "execution_count": null,
   "id": "d6a720de",
   "metadata": {},
   "outputs": [],
   "source": []
  }
 ],
 "metadata": {
  "kernelspec": {
   "display_name": "Python 3 (ipykernel)",
   "language": "python",
   "name": "python3"
  },
  "language_info": {
   "codemirror_mode": {
    "name": "ipython",
    "version": 3
   },
   "file_extension": ".py",
   "mimetype": "text/x-python",
   "name": "python",
   "nbconvert_exporter": "python",
   "pygments_lexer": "ipython3",
   "version": "3.9.7"
  }
 },
 "nbformat": 4,
 "nbformat_minor": 5
}
