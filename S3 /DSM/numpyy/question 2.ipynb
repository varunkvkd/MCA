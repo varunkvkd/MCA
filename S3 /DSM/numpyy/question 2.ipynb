{
 "cells": [
  {
   "cell_type": "code",
   "execution_count": 1,
   "id": "e37fadc6",
   "metadata": {},
   "outputs": [
    {
     "name": "stdout",
     "output_type": "stream",
     "text": [
      "Array A\n",
      "[3 5 1 2 3]\n",
      "\n",
      "Array B\n",
      "[2 5 3 2 1]\n",
      "\n",
      "A>B\n",
      "[ True False False False  True]\n",
      "\n",
      "A>=B\n",
      "[ True  True False  True  True]\n",
      "\n",
      "A<B\n",
      "[False False  True False False]\n",
      "\n",
      "A<=B\n",
      "[False  True  True  True False]\n"
     ]
    }
   ],
   "source": [
    "import numpy as np\n",
    "\n",
    "x = np.array([3,5,1,2,3])\n",
    "y = np.array([2,5,3,2,1])\n",
    "\n",
    "print(\"Array A\")\n",
    "print(x)\n",
    "print(\"\\nArray B\")\n",
    "print(y)\n",
    "\n",
    "print(\"\\nA>B\")\n",
    "print(np.greater(x, y))\n",
    "\n",
    "print(\"\\nA>=B\")\n",
    "print(np.greater_equal(x, y))\n",
    "\n",
    "print(\"\\nA<B\")\n",
    "print(np.less(x, y))\n",
    "\n",
    "print(\"\\nA<=B\")\n",
    "print(np.less_equal(x, y))"
   ]
  },
  {
   "cell_type": "code",
   "execution_count": null,
   "id": "667026a1",
   "metadata": {},
   "outputs": [],
   "source": []
  }
 ],
 "metadata": {
  "kernelspec": {
   "display_name": "Python 3 (ipykernel)",
   "language": "python",
   "name": "python3"
  },
  "language_info": {
   "codemirror_mode": {
    "name": "ipython",
    "version": 3
   },
   "file_extension": ".py",
   "mimetype": "text/x-python",
   "name": "python",
   "nbconvert_exporter": "python",
   "pygments_lexer": "ipython3",
   "version": "3.9.7"
  }
 },
 "nbformat": 4,
 "nbformat_minor": 5
}
