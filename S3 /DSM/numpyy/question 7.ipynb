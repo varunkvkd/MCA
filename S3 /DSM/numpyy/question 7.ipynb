{
 "cells": [
  {
   "cell_type": "code",
   "execution_count": 1,
   "id": "5941b316",
   "metadata": {},
   "outputs": [
    {
     "name": "stdout",
     "output_type": "stream",
     "text": [
      "Array\n",
      "[[1 0]\n",
      " [0 1]]\n",
      "\n",
      "Sum of all elements\n",
      "2\n",
      "\n",
      "Sum of each column\n",
      "[1 1]\n",
      "\n",
      "Sum of each row\n",
      "[1 1]\n"
     ]
    }
   ],
   "source": [
    "import numpy as np\n",
    "\n",
    "x = np.array([[1,0],[0,1]])\n",
    "\n",
    "print(\"Array\")\n",
    "print(x)\n",
    "\n",
    "print(\"\\nSum of all elements\")\n",
    "print(np.sum(x))\n",
    "\n",
    "print(\"\\nSum of each column\")\n",
    "print(np.sum(x, axis=0))\n",
    "\n",
    "print(\"\\nSum of each row\")\n",
    "print(np.sum(x, axis=1))"
   ]
  },
  {
   "cell_type": "code",
   "execution_count": null,
   "id": "688e5447",
   "metadata": {},
   "outputs": [],
   "source": []
  }
 ],
 "metadata": {
  "kernelspec": {
   "display_name": "Python 3 (ipykernel)",
   "language": "python",
   "name": "python3"
  },
  "language_info": {
   "codemirror_mode": {
    "name": "ipython",
    "version": 3
   },
   "file_extension": ".py",
   "mimetype": "text/x-python",
   "name": "python",
   "nbconvert_exporter": "python",
   "pygments_lexer": "ipython3",
   "version": "3.9.7"
  }
 },
 "nbformat": 4,
 "nbformat_minor": 5
}
